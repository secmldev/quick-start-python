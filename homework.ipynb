{
 "cells": [
  {
   "cell_type": "code",
   "execution_count": null,
   "id": "40dea46c",
   "metadata": {},
   "outputs": [],
   "source": [
    "- documentation\n",
    "- developer\n",
    "- testing: postman, api (m)\n",
    "- \n",
    "\n",
    "- summary of one stock data: hari ji\n",
    "- pandas, read data from csv, manunath ji\n",
    "- read data from yahoo: hari ji\n",
    "- read data from data base: mannunath ji\n",
    "- adjusted closing prize: Anil ji\n",
    "- 109, 2000, shashikant ji\n",
    "- read stock many in pdf file output: shashikant ji\n",
    "- api from the methods: manjunath ji"
   ]
  },
  {
   "cell_type": "code",
   "execution_count": null,
   "id": "fa176b29",
   "metadata": {},
   "outputs": [],
   "source": []
  },
  {
   "cell_type": "code",
   "execution_count": null,
   "id": "142362b0",
   "metadata": {},
   "outputs": [],
   "source": [
    "## homework\n",
    "complete markdown homework"
   ]
  }
 ],
 "metadata": {
  "kernelspec": {
   "display_name": "Python 3 (ipykernel)",
   "language": "python",
   "name": "python3"
  },
  "language_info": {
   "codemirror_mode": {
    "name": "ipython",
    "version": 3
   },
   "file_extension": ".py",
   "mimetype": "text/x-python",
   "name": "python",
   "nbconvert_exporter": "python",
   "pygments_lexer": "ipython3",
   "version": "3.9.7"
  }
 },
 "nbformat": 4,
 "nbformat_minor": 5
}
