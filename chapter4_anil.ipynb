{
 "cells": [
  {
   "cell_type": "markdown",
   "id": "2cdf8b7e",
   "metadata": {},
   "source": [
    "# Chapter 4: Read/ Write Data #\n",
    "\n",
    "## 1.\t Read data using different methods and sources ##\n",
    "\n",
    "- 1.1.\tRead data from csv\n",
    "- 1.2.\tRead data from websites\n",
    "- 1.3.\tRead data from database\n",
    "- 1.4.\tRead data from github\n",
    "\n",
    "## 2.\tWrite data to different sources ##\n",
    "- 2.1.\tWrite to csv\n",
    "- 2.2.\tWrite to websites\n",
    "- 2.3.\tWrite to database\n",
    "- 2.4.\tWrite to github\n",
    "\n",
    "## 3.\tRead data from CSV ##\n",
    "- 3.1.\tInput: folder path\n",
    "\n",
    "## 4.\tRead ##\n",
    "\n",
    "\n",
    "\n",
    "\n",
    "\n",
    "\n",
    "\n",
    "### Data related roles ###\n",
    "\n",
    "- 1)\tData Engineer\n",
    "- 2)\tData Analyst\n",
    "- 3)\tData Scientist\n",
    "- 4)\tData Researcher\n",
    "- 5)\tData Expert\n",
    "- 6)\tMachine learning Expert\n",
    "- 7)\tDeep Learning Expert\n",
    "\n",
    "Link : https://www.careersinanalytics.com/article/different-roles-in-machine-learning/\n",
    "\n"
   ]
  },
  {
   "cell_type": "code",
   "execution_count": null,
   "id": "7ef488c0",
   "metadata": {},
   "outputs": [],
   "source": []
  }
 ],
 "metadata": {
  "kernelspec": {
   "display_name": "Python 3 (ipykernel)",
   "language": "python",
   "name": "python3"
  },
  "language_info": {
   "codemirror_mode": {
    "name": "ipython",
    "version": 3
   },
   "file_extension": ".py",
   "mimetype": "text/x-python",
   "name": "python",
   "nbconvert_exporter": "python",
   "pygments_lexer": "ipython3",
   "version": "3.9.13"
  }
 },
 "nbformat": 4,
 "nbformat_minor": 5
}
