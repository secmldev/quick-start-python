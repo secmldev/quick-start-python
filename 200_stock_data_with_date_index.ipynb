{
 "cells": [
  {
   "cell_type": "code",
   "execution_count": 1,
   "metadata": {},
   "outputs": [],
   "source": [
    "folder_name = 'data/'\n",
    "stock_names = [\"AAPL\", \"IBM\"]"
   ]
  },
  {
   "cell_type": "markdown",
   "metadata": {},
   "source": [
    "### Read stock data "
   ]
  },
  {
   "cell_type": "code",
   "execution_count": null,
   "metadata": {},
   "outputs": [],
   "source": [
    "import pandas as pd\n",
    "import numpy as np"
   ]
  },
  {
   "cell_type": "code",
   "execution_count": 37,
   "metadata": {},
   "outputs": [
    {
     "name": "stdout",
     "output_type": "stream",
     "text": [
      "         Date    Open    High     Low     Close      Volume  Ex-Dividend  \\\n",
      "0  2007-12-03  181.86  184.14  177.70  178.8600  34338200.0          0.0   \n",
      "1  2007-12-04  177.15  180.90  176.99  179.8100  27635700.0          0.0   \n",
      "2  2007-12-05  182.89  186.00  182.41  185.5000  31871500.0          0.0   \n",
      "3  2007-12-06  186.19  190.10  186.12  189.9528  32136100.0          0.0   \n",
      "4  2007-12-07  190.54  194.99  188.04  194.3000  38073800.0          0.0   \n",
      "\n",
      "   Split Ratio  Adj. Open  Adj. High   Adj. Low  Adj. Close  Adj. Volume  \n",
      "0          1.0  23.371545  23.664556  22.836927   22.986003  240367400.0  \n",
      "1          1.0  22.766244  23.248171  22.745682   23.108091  193449900.0  \n",
      "2          1.0  23.503914  23.903592  23.442227   23.839335  223100500.0  \n",
      "3          1.0  23.928010  24.430500  23.919014   24.411582  224952700.0  \n",
      "4          1.0  24.487046  25.058933  24.165761   24.970258  266516600.0  \n",
      "         Date    Open    High     Low   Close     Volume  Ex-Dividend  \\\n",
      "0  2007-12-03  105.45  107.14  104.58  105.83  7918800.0          0.0   \n",
      "1  2007-12-04  105.83  107.42  104.72  106.63  6361800.0          0.0   \n",
      "2  2007-12-05  107.46  108.52  106.98  108.16  6090400.0          0.0   \n",
      "3  2007-12-06  108.00  110.00  107.93  109.70  5315500.0          0.0   \n",
      "4  2007-12-07  109.68  110.00  107.95  108.86  5985500.0          0.0   \n",
      "\n",
      "   Split Ratio  Adj. Open  Adj. High   Adj. Low  Adj. Close  Adj. Volume  \n",
      "0          1.0  82.903615  84.232274  82.219631   83.202367    7918800.0  \n",
      "1          1.0  83.202367  84.452407  82.329697   83.831318    6361800.0  \n",
      "2          1.0  84.483855  85.317215  84.106484   85.034187    6090400.0  \n",
      "3          1.0  84.908396  86.480774  84.853363   86.244918    5315500.0  \n",
      "4          1.0  86.229194  86.480774  84.869087   85.584519    5985500.0  \n"
     ]
    }
   ],
   "source": [
    "for stock_name in stock_names:\n",
    "    data = pd.read_csv(folder_name +  stock_name + '.csv')\n",
    "    print(data.head())"
   ]
  },
  {
   "cell_type": "code",
   "execution_count": null,
   "metadata": {},
   "outputs": [],
   "source": []
  },
  {
   "cell_type": "code",
   "execution_count": 38,
   "metadata": {},
   "outputs": [
    {
     "name": "stdout",
     "output_type": "stream",
     "text": [
      "<class 'pandas.core.frame.DataFrame'>\n",
      "RangeIndex: 2518 entries, 0 to 2517\n",
      "Data columns (total 13 columns):\n",
      " #   Column       Non-Null Count  Dtype  \n",
      "---  ------       --------------  -----  \n",
      " 0   Date         2518 non-null   object \n",
      " 1   Open         2518 non-null   float64\n",
      " 2   High         2518 non-null   float64\n",
      " 3   Low          2518 non-null   float64\n",
      " 4   Close        2518 non-null   float64\n",
      " 5   Volume       2518 non-null   float64\n",
      " 6   Ex-Dividend  2518 non-null   float64\n",
      " 7   Split Ratio  2518 non-null   float64\n",
      " 8   Adj. Open    2518 non-null   float64\n",
      " 9   Adj. High    2518 non-null   float64\n",
      " 10  Adj. Low     2518 non-null   float64\n",
      " 11  Adj. Close   2518 non-null   float64\n",
      " 12  Adj. Volume  2518 non-null   float64\n",
      "dtypes: float64(12), object(1)\n",
      "memory usage: 255.9+ KB\n"
     ]
    }
   ],
   "source": [
    "data.info()"
   ]
  },
  {
   "cell_type": "code",
   "execution_count": 39,
   "metadata": {},
   "outputs": [],
   "source": [
    "data['Date'] = pd.to_datetime(data['Date']) \n"
   ]
  },
  {
   "cell_type": "code",
   "execution_count": 32,
   "metadata": {},
   "outputs": [
    {
     "data": {
      "text/html": [
       "<div>\n",
       "<style scoped>\n",
       "    .dataframe tbody tr th:only-of-type {\n",
       "        vertical-align: middle;\n",
       "    }\n",
       "\n",
       "    .dataframe tbody tr th {\n",
       "        vertical-align: top;\n",
       "    }\n",
       "\n",
       "    .dataframe thead th {\n",
       "        text-align: right;\n",
       "    }\n",
       "</style>\n",
       "<table border=\"1\" class=\"dataframe\">\n",
       "  <thead>\n",
       "    <tr style=\"text-align: right;\">\n",
       "      <th></th>\n",
       "      <th>Date</th>\n",
       "      <th>Open</th>\n",
       "      <th>High</th>\n",
       "      <th>Low</th>\n",
       "      <th>Close</th>\n",
       "      <th>Volume</th>\n",
       "      <th>Ex-Dividend</th>\n",
       "      <th>Split Ratio</th>\n",
       "      <th>Adj. Open</th>\n",
       "      <th>Adj. High</th>\n",
       "      <th>Adj. Low</th>\n",
       "      <th>Adj. Close</th>\n",
       "      <th>Adj. Volume</th>\n",
       "    </tr>\n",
       "  </thead>\n",
       "  <tbody>\n",
       "    <tr>\n",
       "      <th>0</th>\n",
       "      <td>2007-12-03</td>\n",
       "      <td>105.45</td>\n",
       "      <td>107.14</td>\n",
       "      <td>104.58</td>\n",
       "      <td>105.83</td>\n",
       "      <td>7918800.0</td>\n",
       "      <td>0.0</td>\n",
       "      <td>1.0</td>\n",
       "      <td>82.903615</td>\n",
       "      <td>84.232274</td>\n",
       "      <td>82.219631</td>\n",
       "      <td>83.202367</td>\n",
       "      <td>7918800.0</td>\n",
       "    </tr>\n",
       "    <tr>\n",
       "      <th>1</th>\n",
       "      <td>2007-12-04</td>\n",
       "      <td>105.83</td>\n",
       "      <td>107.42</td>\n",
       "      <td>104.72</td>\n",
       "      <td>106.63</td>\n",
       "      <td>6361800.0</td>\n",
       "      <td>0.0</td>\n",
       "      <td>1.0</td>\n",
       "      <td>83.202367</td>\n",
       "      <td>84.452407</td>\n",
       "      <td>82.329697</td>\n",
       "      <td>83.831318</td>\n",
       "      <td>6361800.0</td>\n",
       "    </tr>\n",
       "    <tr>\n",
       "      <th>2</th>\n",
       "      <td>2007-12-05</td>\n",
       "      <td>107.46</td>\n",
       "      <td>108.52</td>\n",
       "      <td>106.98</td>\n",
       "      <td>108.16</td>\n",
       "      <td>6090400.0</td>\n",
       "      <td>0.0</td>\n",
       "      <td>1.0</td>\n",
       "      <td>84.483855</td>\n",
       "      <td>85.317215</td>\n",
       "      <td>84.106484</td>\n",
       "      <td>85.034187</td>\n",
       "      <td>6090400.0</td>\n",
       "    </tr>\n",
       "    <tr>\n",
       "      <th>3</th>\n",
       "      <td>2007-12-06</td>\n",
       "      <td>108.00</td>\n",
       "      <td>110.00</td>\n",
       "      <td>107.93</td>\n",
       "      <td>109.70</td>\n",
       "      <td>5315500.0</td>\n",
       "      <td>0.0</td>\n",
       "      <td>1.0</td>\n",
       "      <td>84.908396</td>\n",
       "      <td>86.480774</td>\n",
       "      <td>84.853363</td>\n",
       "      <td>86.244918</td>\n",
       "      <td>5315500.0</td>\n",
       "    </tr>\n",
       "    <tr>\n",
       "      <th>4</th>\n",
       "      <td>2007-12-07</td>\n",
       "      <td>109.68</td>\n",
       "      <td>110.00</td>\n",
       "      <td>107.95</td>\n",
       "      <td>108.86</td>\n",
       "      <td>5985500.0</td>\n",
       "      <td>0.0</td>\n",
       "      <td>1.0</td>\n",
       "      <td>86.229194</td>\n",
       "      <td>86.480774</td>\n",
       "      <td>84.869087</td>\n",
       "      <td>85.584519</td>\n",
       "      <td>5985500.0</td>\n",
       "    </tr>\n",
       "  </tbody>\n",
       "</table>\n",
       "</div>"
      ],
      "text/plain": [
       "        Date    Open    High     Low   Close     Volume  Ex-Dividend  \\\n",
       "0 2007-12-03  105.45  107.14  104.58  105.83  7918800.0          0.0   \n",
       "1 2007-12-04  105.83  107.42  104.72  106.63  6361800.0          0.0   \n",
       "2 2007-12-05  107.46  108.52  106.98  108.16  6090400.0          0.0   \n",
       "3 2007-12-06  108.00  110.00  107.93  109.70  5315500.0          0.0   \n",
       "4 2007-12-07  109.68  110.00  107.95  108.86  5985500.0          0.0   \n",
       "\n",
       "   Split Ratio  Adj. Open  Adj. High   Adj. Low  Adj. Close  Adj. Volume  \n",
       "0          1.0  82.903615  84.232274  82.219631   83.202367    7918800.0  \n",
       "1          1.0  83.202367  84.452407  82.329697   83.831318    6361800.0  \n",
       "2          1.0  84.483855  85.317215  84.106484   85.034187    6090400.0  \n",
       "3          1.0  84.908396  86.480774  84.853363   86.244918    5315500.0  \n",
       "4          1.0  86.229194  86.480774  84.869087   85.584519    5985500.0  "
      ]
     },
     "execution_count": 32,
     "metadata": {},
     "output_type": "execute_result"
    }
   ],
   "source": [
    "data.head()"
   ]
  },
  {
   "cell_type": "code",
   "execution_count": 33,
   "metadata": {},
   "outputs": [
    {
     "name": "stdout",
     "output_type": "stream",
     "text": [
      "<class 'pandas.core.frame.DataFrame'>\n",
      "RangeIndex: 2518 entries, 0 to 2517\n",
      "Data columns (total 13 columns):\n",
      " #   Column       Non-Null Count  Dtype         \n",
      "---  ------       --------------  -----         \n",
      " 0   Date         2518 non-null   datetime64[ns]\n",
      " 1   Open         2518 non-null   float64       \n",
      " 2   High         2518 non-null   float64       \n",
      " 3   Low          2518 non-null   float64       \n",
      " 4   Close        2518 non-null   float64       \n",
      " 5   Volume       2518 non-null   float64       \n",
      " 6   Ex-Dividend  2518 non-null   float64       \n",
      " 7   Split Ratio  2518 non-null   float64       \n",
      " 8   Adj. Open    2518 non-null   float64       \n",
      " 9   Adj. High    2518 non-null   float64       \n",
      " 10  Adj. Low     2518 non-null   float64       \n",
      " 11  Adj. Close   2518 non-null   float64       \n",
      " 12  Adj. Volume  2518 non-null   float64       \n",
      "dtypes: datetime64[ns](1), float64(12)\n",
      "memory usage: 255.9 KB\n"
     ]
    }
   ],
   "source": [
    "data.info()"
   ]
  },
  {
   "cell_type": "code",
   "execution_count": 40,
   "metadata": {},
   "outputs": [],
   "source": [
    "data = data.set_index('Open')"
   ]
  },
  {
   "cell_type": "code",
   "execution_count": null,
   "metadata": {},
   "outputs": [],
   "source": []
  },
  {
   "cell_type": "code",
   "execution_count": 41,
   "metadata": {},
   "outputs": [
    {
     "data": {
      "text/html": [
       "<div>\n",
       "<style scoped>\n",
       "    .dataframe tbody tr th:only-of-type {\n",
       "        vertical-align: middle;\n",
       "    }\n",
       "\n",
       "    .dataframe tbody tr th {\n",
       "        vertical-align: top;\n",
       "    }\n",
       "\n",
       "    .dataframe thead th {\n",
       "        text-align: right;\n",
       "    }\n",
       "</style>\n",
       "<table border=\"1\" class=\"dataframe\">\n",
       "  <thead>\n",
       "    <tr style=\"text-align: right;\">\n",
       "      <th></th>\n",
       "      <th>Date</th>\n",
       "      <th>High</th>\n",
       "      <th>Low</th>\n",
       "      <th>Close</th>\n",
       "      <th>Volume</th>\n",
       "      <th>Ex-Dividend</th>\n",
       "      <th>Split Ratio</th>\n",
       "      <th>Adj. Open</th>\n",
       "      <th>Adj. High</th>\n",
       "      <th>Adj. Low</th>\n",
       "      <th>Adj. Close</th>\n",
       "      <th>Adj. Volume</th>\n",
       "    </tr>\n",
       "    <tr>\n",
       "      <th>Open</th>\n",
       "      <th></th>\n",
       "      <th></th>\n",
       "      <th></th>\n",
       "      <th></th>\n",
       "      <th></th>\n",
       "      <th></th>\n",
       "      <th></th>\n",
       "      <th></th>\n",
       "      <th></th>\n",
       "      <th></th>\n",
       "      <th></th>\n",
       "      <th></th>\n",
       "    </tr>\n",
       "  </thead>\n",
       "  <tbody>\n",
       "    <tr>\n",
       "      <th>105.45</th>\n",
       "      <td>2007-12-03</td>\n",
       "      <td>107.14</td>\n",
       "      <td>104.58</td>\n",
       "      <td>105.83</td>\n",
       "      <td>7918800.0</td>\n",
       "      <td>0.0</td>\n",
       "      <td>1.0</td>\n",
       "      <td>82.903615</td>\n",
       "      <td>84.232274</td>\n",
       "      <td>82.219631</td>\n",
       "      <td>83.202367</td>\n",
       "      <td>7918800.0</td>\n",
       "    </tr>\n",
       "    <tr>\n",
       "      <th>105.83</th>\n",
       "      <td>2007-12-04</td>\n",
       "      <td>107.42</td>\n",
       "      <td>104.72</td>\n",
       "      <td>106.63</td>\n",
       "      <td>6361800.0</td>\n",
       "      <td>0.0</td>\n",
       "      <td>1.0</td>\n",
       "      <td>83.202367</td>\n",
       "      <td>84.452407</td>\n",
       "      <td>82.329697</td>\n",
       "      <td>83.831318</td>\n",
       "      <td>6361800.0</td>\n",
       "    </tr>\n",
       "    <tr>\n",
       "      <th>107.46</th>\n",
       "      <td>2007-12-05</td>\n",
       "      <td>108.52</td>\n",
       "      <td>106.98</td>\n",
       "      <td>108.16</td>\n",
       "      <td>6090400.0</td>\n",
       "      <td>0.0</td>\n",
       "      <td>1.0</td>\n",
       "      <td>84.483855</td>\n",
       "      <td>85.317215</td>\n",
       "      <td>84.106484</td>\n",
       "      <td>85.034187</td>\n",
       "      <td>6090400.0</td>\n",
       "    </tr>\n",
       "    <tr>\n",
       "      <th>108.00</th>\n",
       "      <td>2007-12-06</td>\n",
       "      <td>110.00</td>\n",
       "      <td>107.93</td>\n",
       "      <td>109.70</td>\n",
       "      <td>5315500.0</td>\n",
       "      <td>0.0</td>\n",
       "      <td>1.0</td>\n",
       "      <td>84.908396</td>\n",
       "      <td>86.480774</td>\n",
       "      <td>84.853363</td>\n",
       "      <td>86.244918</td>\n",
       "      <td>5315500.0</td>\n",
       "    </tr>\n",
       "    <tr>\n",
       "      <th>109.68</th>\n",
       "      <td>2007-12-07</td>\n",
       "      <td>110.00</td>\n",
       "      <td>107.95</td>\n",
       "      <td>108.86</td>\n",
       "      <td>5985500.0</td>\n",
       "      <td>0.0</td>\n",
       "      <td>1.0</td>\n",
       "      <td>86.229194</td>\n",
       "      <td>86.480774</td>\n",
       "      <td>84.869087</td>\n",
       "      <td>85.584519</td>\n",
       "      <td>5985500.0</td>\n",
       "    </tr>\n",
       "  </tbody>\n",
       "</table>\n",
       "</div>"
      ],
      "text/plain": [
       "             Date    High     Low   Close     Volume  Ex-Dividend  \\\n",
       "Open                                                                \n",
       "105.45 2007-12-03  107.14  104.58  105.83  7918800.0          0.0   \n",
       "105.83 2007-12-04  107.42  104.72  106.63  6361800.0          0.0   \n",
       "107.46 2007-12-05  108.52  106.98  108.16  6090400.0          0.0   \n",
       "108.00 2007-12-06  110.00  107.93  109.70  5315500.0          0.0   \n",
       "109.68 2007-12-07  110.00  107.95  108.86  5985500.0          0.0   \n",
       "\n",
       "        Split Ratio  Adj. Open  Adj. High   Adj. Low  Adj. Close  Adj. Volume  \n",
       "Open                                                                           \n",
       "105.45          1.0  82.903615  84.232274  82.219631   83.202367    7918800.0  \n",
       "105.83          1.0  83.202367  84.452407  82.329697   83.831318    6361800.0  \n",
       "107.46          1.0  84.483855  85.317215  84.106484   85.034187    6090400.0  \n",
       "108.00          1.0  84.908396  86.480774  84.853363   86.244918    5315500.0  \n",
       "109.68          1.0  86.229194  86.480774  84.869087   85.584519    5985500.0  "
      ]
     },
     "execution_count": 41,
     "metadata": {},
     "output_type": "execute_result"
    }
   ],
   "source": [
    "data.head()"
   ]
  },
  {
   "cell_type": "code",
   "execution_count": 36,
   "metadata": {},
   "outputs": [
    {
     "data": {
      "text/plain": [
       "<AxesSubplot:xlabel='Date'>"
      ]
     },
     "execution_count": 36,
     "metadata": {},
     "output_type": "execute_result"
    },
    {
     "data": {
      "image/png": "[encoded data removed]",
      "text/plain": [
       "<Figure size 432x288 with 1 Axes>"
      ]
     },
     "metadata": {
      "needs_background": "light"
     },
     "output_type": "display_data"
    }
   ],
   "source": [
    "data['Open'].plot()"
   ]
  },
  {
   "cell_type": "code",
   "execution_count": 26,
   "metadata": {},
   "outputs": [
    {
     "data": {
      "text/html": [
       "<div>\n",
       "<style scoped>\n",
       "    .dataframe tbody tr th:only-of-type {\n",
       "        vertical-align: middle;\n",
       "    }\n",
       "\n",
       "    .dataframe tbody tr th {\n",
       "        vertical-align: top;\n",
       "    }\n",
       "\n",
       "    .dataframe thead th {\n",
       "        text-align: right;\n",
       "    }\n",
       "</style>\n",
       "<table border=\"1\" class=\"dataframe\">\n",
       "  <thead>\n",
       "    <tr style=\"text-align: right;\">\n",
       "      <th></th>\n",
       "      <th>Open</th>\n",
       "      <th>High</th>\n",
       "      <th>Low</th>\n",
       "      <th>Close</th>\n",
       "      <th>Volume</th>\n",
       "      <th>Ex-Dividend</th>\n",
       "      <th>Split Ratio</th>\n",
       "      <th>Adj. Open</th>\n",
       "      <th>Adj. High</th>\n",
       "      <th>Adj. Low</th>\n",
       "      <th>Adj. Close</th>\n",
       "      <th>Adj. Volume</th>\n",
       "    </tr>\n",
       "    <tr>\n",
       "      <th>Date</th>\n",
       "      <th></th>\n",
       "      <th></th>\n",
       "      <th></th>\n",
       "      <th></th>\n",
       "      <th></th>\n",
       "      <th></th>\n",
       "      <th></th>\n",
       "      <th></th>\n",
       "      <th></th>\n",
       "      <th></th>\n",
       "      <th></th>\n",
       "      <th></th>\n",
       "    </tr>\n",
       "  </thead>\n",
       "  <tbody>\n",
       "    <tr>\n",
       "      <th>2007-12-03</th>\n",
       "      <td>105.45</td>\n",
       "      <td>107.14</td>\n",
       "      <td>104.58</td>\n",
       "      <td>105.83</td>\n",
       "      <td>7918800.0</td>\n",
       "      <td>0.0</td>\n",
       "      <td>1.0</td>\n",
       "      <td>82.903615</td>\n",
       "      <td>84.232274</td>\n",
       "      <td>82.219631</td>\n",
       "      <td>83.202367</td>\n",
       "      <td>7918800.0</td>\n",
       "    </tr>\n",
       "    <tr>\n",
       "      <th>2007-12-04</th>\n",
       "      <td>105.83</td>\n",
       "      <td>107.42</td>\n",
       "      <td>104.72</td>\n",
       "      <td>106.63</td>\n",
       "      <td>6361800.0</td>\n",
       "      <td>0.0</td>\n",
       "      <td>1.0</td>\n",
       "      <td>83.202367</td>\n",
       "      <td>84.452407</td>\n",
       "      <td>82.329697</td>\n",
       "      <td>83.831318</td>\n",
       "      <td>6361800.0</td>\n",
       "    </tr>\n",
       "    <tr>\n",
       "      <th>2007-12-05</th>\n",
       "      <td>107.46</td>\n",
       "      <td>108.52</td>\n",
       "      <td>106.98</td>\n",
       "      <td>108.16</td>\n",
       "      <td>6090400.0</td>\n",
       "      <td>0.0</td>\n",
       "      <td>1.0</td>\n",
       "      <td>84.483855</td>\n",
       "      <td>85.317215</td>\n",
       "      <td>84.106484</td>\n",
       "      <td>85.034187</td>\n",
       "      <td>6090400.0</td>\n",
       "    </tr>\n",
       "    <tr>\n",
       "      <th>2007-12-06</th>\n",
       "      <td>108.00</td>\n",
       "      <td>110.00</td>\n",
       "      <td>107.93</td>\n",
       "      <td>109.70</td>\n",
       "      <td>5315500.0</td>\n",
       "      <td>0.0</td>\n",
       "      <td>1.0</td>\n",
       "      <td>84.908396</td>\n",
       "      <td>86.480774</td>\n",
       "      <td>84.853363</td>\n",
       "      <td>86.244918</td>\n",
       "      <td>5315500.0</td>\n",
       "    </tr>\n",
       "    <tr>\n",
       "      <th>2007-12-07</th>\n",
       "      <td>109.68</td>\n",
       "      <td>110.00</td>\n",
       "      <td>107.95</td>\n",
       "      <td>108.86</td>\n",
       "      <td>5985500.0</td>\n",
       "      <td>0.0</td>\n",
       "      <td>1.0</td>\n",
       "      <td>86.229194</td>\n",
       "      <td>86.480774</td>\n",
       "      <td>84.869087</td>\n",
       "      <td>85.584519</td>\n",
       "      <td>5985500.0</td>\n",
       "    </tr>\n",
       "  </tbody>\n",
       "</table>\n",
       "</div>"
      ],
      "text/plain": [
       "              Open    High     Low   Close     Volume  Ex-Dividend  \\\n",
       "Date                                                                 \n",
       "2007-12-03  105.45  107.14  104.58  105.83  7918800.0          0.0   \n",
       "2007-12-04  105.83  107.42  104.72  106.63  6361800.0          0.0   \n",
       "2007-12-05  107.46  108.52  106.98  108.16  6090400.0          0.0   \n",
       "2007-12-06  108.00  110.00  107.93  109.70  5315500.0          0.0   \n",
       "2007-12-07  109.68  110.00  107.95  108.86  5985500.0          0.0   \n",
       "\n",
       "            Split Ratio  Adj. Open  Adj. High   Adj. Low  Adj. Close  \\\n",
       "Date                                                                   \n",
       "2007-12-03          1.0  82.903615  84.232274  82.219631   83.202367   \n",
       "2007-12-04          1.0  83.202367  84.452407  82.329697   83.831318   \n",
       "2007-12-05          1.0  84.483855  85.317215  84.106484   85.034187   \n",
       "2007-12-06          1.0  84.908396  86.480774  84.853363   86.244918   \n",
       "2007-12-07          1.0  86.229194  86.480774  84.869087   85.584519   \n",
       "\n",
       "            Adj. Volume  \n",
       "Date                     \n",
       "2007-12-03    7918800.0  \n",
       "2007-12-04    6361800.0  \n",
       "2007-12-05    6090400.0  \n",
       "2007-12-06    5315500.0  \n",
       "2007-12-07    5985500.0  "
      ]
     },
     "execution_count": 26,
     "metadata": {},
     "output_type": "execute_result"
    }
   ],
   "source": [
    "data = data.set_index('Date')\n",
    "data.head()"
   ]
  },
  {
   "cell_type": "code",
   "execution_count": 27,
   "metadata": {},
   "outputs": [
    {
     "data": {
      "text/plain": [
       "<AxesSubplot:xlabel='Date'>"
      ]
     },
     "execution_count": 27,
     "metadata": {},
     "output_type": "execute_result"
    },
    {
     "data": {
      "image/png": "[encoded data removed]",
      "text/plain": [
       "<Figure size 432x288 with 1 Axes>"
      ]
     },
     "metadata": {
      "needs_background": "light"
     },
     "output_type": "display_data"
    }
   ],
   "source": [
    "data['Open'].plot()"
   ]
  },
  {
   "cell_type": "code",
   "execution_count": null,
   "metadata": {},
   "outputs": [],
   "source": []
  },
  {
   "cell_type": "code",
   "execution_count": 56,
   "metadata": {},
   "outputs": [],
   "source": [
    "def get_data(folder_name, stock_name):\n",
    "    file_name = folder_name + stock_name + '.csv'\n",
    "    data = pd.read_csv(file_name)\n",
    "    data['Date'] = pd.to_datetime(data['Date'])\n",
    "    data = data.set_index(data['Date'])\n",
    "    return data"
   ]
  },
  {
   "cell_type": "code",
   "execution_count": 61,
   "metadata": {},
   "outputs": [],
   "source": [
    "folder_name = 'data/'\n",
    "stock_name = 'AAPL'"
   ]
  },
  {
   "cell_type": "code",
   "execution_count": 57,
   "metadata": {},
   "outputs": [],
   "source": [
    "temp = get_data('data/', 'AAPL')"
   ]
  },
  {
   "cell_type": "code",
   "execution_count": 58,
   "metadata": {},
   "outputs": [
    {
     "name": "stdout",
     "output_type": "stream",
     "text": [
      "<class 'pandas.core.frame.DataFrame'>\n",
      "DatetimeIndex: 2517 entries, 2007-12-03 to 2017-12-01\n",
      "Data columns (total 13 columns):\n",
      " #   Column       Non-Null Count  Dtype         \n",
      "---  ------       --------------  -----         \n",
      " 0   Date         2517 non-null   datetime64[ns]\n",
      " 1   Open         2517 non-null   float64       \n",
      " 2   High         2517 non-null   float64       \n",
      " 3   Low          2517 non-null   float64       \n",
      " 4   Close        2517 non-null   float64       \n",
      " 5   Volume       2517 non-null   float64       \n",
      " 6   Ex-Dividend  2517 non-null   float64       \n",
      " 7   Split Ratio  2517 non-null   float64       \n",
      " 8   Adj. Open    2517 non-null   float64       \n",
      " 9   Adj. High    2517 non-null   float64       \n",
      " 10  Adj. Low     2517 non-null   float64       \n",
      " 11  Adj. Close   2517 non-null   float64       \n",
      " 12  Adj. Volume  2517 non-null   float64       \n",
      "dtypes: datetime64[ns](1), float64(12)\n",
      "memory usage: 275.3 KB\n"
     ]
    }
   ],
   "source": [
    "temp.info()"
   ]
  },
  {
   "cell_type": "code",
   "execution_count": 59,
   "metadata": {},
   "outputs": [
    {
     "data": {
      "text/html": [
       "<div>\n",
       "<style scoped>\n",
       "    .dataframe tbody tr th:only-of-type {\n",
       "        vertical-align: middle;\n",
       "    }\n",
       "\n",
       "    .dataframe tbody tr th {\n",
       "        vertical-align: top;\n",
       "    }\n",
       "\n",
       "    .dataframe thead th {\n",
       "        text-align: right;\n",
       "    }\n",
       "</style>\n",
       "<table border=\"1\" class=\"dataframe\">\n",
       "  <thead>\n",
       "    <tr style=\"text-align: right;\">\n",
       "      <th></th>\n",
       "      <th>Date</th>\n",
       "      <th>Open</th>\n",
       "      <th>High</th>\n",
       "      <th>Low</th>\n",
       "      <th>Close</th>\n",
       "      <th>Volume</th>\n",
       "      <th>Ex-Dividend</th>\n",
       "      <th>Split Ratio</th>\n",
       "      <th>Adj. Open</th>\n",
       "      <th>Adj. High</th>\n",
       "      <th>Adj. Low</th>\n",
       "      <th>Adj. Close</th>\n",
       "      <th>Adj. Volume</th>\n",
       "    </tr>\n",
       "    <tr>\n",
       "      <th>Date</th>\n",
       "      <th></th>\n",
       "      <th></th>\n",
       "      <th></th>\n",
       "      <th></th>\n",
       "      <th></th>\n",
       "      <th></th>\n",
       "      <th></th>\n",
       "      <th></th>\n",
       "      <th></th>\n",
       "      <th></th>\n",
       "      <th></th>\n",
       "      <th></th>\n",
       "      <th></th>\n",
       "    </tr>\n",
       "  </thead>\n",
       "  <tbody>\n",
       "    <tr>\n",
       "      <th>2007-12-03</th>\n",
       "      <td>2007-12-03</td>\n",
       "      <td>181.86</td>\n",
       "      <td>184.14</td>\n",
       "      <td>177.70</td>\n",
       "      <td>178.8600</td>\n",
       "      <td>34338200.0</td>\n",
       "      <td>0.0</td>\n",
       "      <td>1.0</td>\n",
       "      <td>23.371545</td>\n",
       "      <td>23.664556</td>\n",
       "      <td>22.836927</td>\n",
       "      <td>22.986003</td>\n",
       "      <td>240367400.0</td>\n",
       "    </tr>\n",
       "    <tr>\n",
       "      <th>2007-12-04</th>\n",
       "      <td>2007-12-04</td>\n",
       "      <td>177.15</td>\n",
       "      <td>180.90</td>\n",
       "      <td>176.99</td>\n",
       "      <td>179.8100</td>\n",
       "      <td>27635700.0</td>\n",
       "      <td>0.0</td>\n",
       "      <td>1.0</td>\n",
       "      <td>22.766244</td>\n",
       "      <td>23.248171</td>\n",
       "      <td>22.745682</td>\n",
       "      <td>23.108091</td>\n",
       "      <td>193449900.0</td>\n",
       "    </tr>\n",
       "    <tr>\n",
       "      <th>2007-12-05</th>\n",
       "      <td>2007-12-05</td>\n",
       "      <td>182.89</td>\n",
       "      <td>186.00</td>\n",
       "      <td>182.41</td>\n",
       "      <td>185.5000</td>\n",
       "      <td>31871500.0</td>\n",
       "      <td>0.0</td>\n",
       "      <td>1.0</td>\n",
       "      <td>23.503914</td>\n",
       "      <td>23.903592</td>\n",
       "      <td>23.442227</td>\n",
       "      <td>23.839335</td>\n",
       "      <td>223100500.0</td>\n",
       "    </tr>\n",
       "    <tr>\n",
       "      <th>2007-12-06</th>\n",
       "      <td>2007-12-06</td>\n",
       "      <td>186.19</td>\n",
       "      <td>190.10</td>\n",
       "      <td>186.12</td>\n",
       "      <td>189.9528</td>\n",
       "      <td>32136100.0</td>\n",
       "      <td>0.0</td>\n",
       "      <td>1.0</td>\n",
       "      <td>23.928010</td>\n",
       "      <td>24.430500</td>\n",
       "      <td>23.919014</td>\n",
       "      <td>24.411582</td>\n",
       "      <td>224952700.0</td>\n",
       "    </tr>\n",
       "    <tr>\n",
       "      <th>2007-12-07</th>\n",
       "      <td>2007-12-07</td>\n",
       "      <td>190.54</td>\n",
       "      <td>194.99</td>\n",
       "      <td>188.04</td>\n",
       "      <td>194.3000</td>\n",
       "      <td>38073800.0</td>\n",
       "      <td>0.0</td>\n",
       "      <td>1.0</td>\n",
       "      <td>24.487046</td>\n",
       "      <td>25.058933</td>\n",
       "      <td>24.165761</td>\n",
       "      <td>24.970258</td>\n",
       "      <td>266516600.0</td>\n",
       "    </tr>\n",
       "  </tbody>\n",
       "</table>\n",
       "</div>"
      ],
      "text/plain": [
       "                 Date    Open    High     Low     Close      Volume  \\\n",
       "Date                                                                  \n",
       "2007-12-03 2007-12-03  181.86  184.14  177.70  178.8600  34338200.0   \n",
       "2007-12-04 2007-12-04  177.15  180.90  176.99  179.8100  27635700.0   \n",
       "2007-12-05 2007-12-05  182.89  186.00  182.41  185.5000  31871500.0   \n",
       "2007-12-06 2007-12-06  186.19  190.10  186.12  189.9528  32136100.0   \n",
       "2007-12-07 2007-12-07  190.54  194.99  188.04  194.3000  38073800.0   \n",
       "\n",
       "            Ex-Dividend  Split Ratio  Adj. Open  Adj. High   Adj. Low  \\\n",
       "Date                                                                    \n",
       "2007-12-03          0.0          1.0  23.371545  23.664556  22.836927   \n",
       "2007-12-04          0.0          1.0  22.766244  23.248171  22.745682   \n",
       "2007-12-05          0.0          1.0  23.503914  23.903592  23.442227   \n",
       "2007-12-06          0.0          1.0  23.928010  24.430500  23.919014   \n",
       "2007-12-07          0.0          1.0  24.487046  25.058933  24.165761   \n",
       "\n",
       "            Adj. Close  Adj. Volume  \n",
       "Date                                 \n",
       "2007-12-03   22.986003  240367400.0  \n",
       "2007-12-04   23.108091  193449900.0  \n",
       "2007-12-05   23.839335  223100500.0  \n",
       "2007-12-06   24.411582  224952700.0  \n",
       "2007-12-07   24.970258  266516600.0  "
      ]
     },
     "execution_count": 59,
     "metadata": {},
     "output_type": "execute_result"
    }
   ],
   "source": [
    "temp.head()"
   ]
  },
  {
   "cell_type": "code",
   "execution_count": 60,
   "metadata": {},
   "outputs": [
    {
     "data": {
      "text/plain": [
       "<AxesSubplot:xlabel='Date'>"
      ]
     },
     "execution_count": 60,
     "metadata": {},
     "output_type": "execute_result"
    },
    {
     "data": {
      "image/png": "[encoded data removed]",
      "text/plain": [
       "<Figure size 432x288 with 1 Axes>"
      ]
     },
     "metadata": {
      "needs_background": "light"
     },
     "output_type": "display_data"
    }
   ],
   "source": [
    "temp['Open'].plot()"
   ]
  },
  {
   "cell_type": "code",
   "execution_count": null,
   "metadata": {},
   "outputs": [],
   "source": []
  }
 ],
 "metadata": {
  "kernelspec": {
   "display_name": "Python 3 (ipykernel)",
   "language": "python",
   "name": "python3"
  },
  "language_info": {
   "codemirror_mode": {
    "name": "ipython",
    "version": 3
   },
   "file_extension": ".py",
   "mimetype": "text/x-python",
   "name": "python",
   "nbconvert_exporter": "python",
   "pygments_lexer": "ipython3",
   "version": "3.9.7"
  }
 },
 "nbformat": 4,
 "nbformat_minor": 2
}
