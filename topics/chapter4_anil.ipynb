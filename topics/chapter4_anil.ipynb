{
 "cells": [
  {
   "cell_type": "markdown",
   "id": "f170f21f",
   "metadata": {},
   "source": [
    "### This is written by Anil"
   ]
  },
  {
   "cell_type": "markdown",
   "id": "c14e69b4",
   "metadata": {},
   "source": [
    "- type1\n",
    "-type2"
   ]
  },
  {
   "cell_type": "markdown",
   "id": "86cbb372",
   "metadata": {},
   "source": [
    "### Chapter 4: Read/ Write Data\n",
    "-\t Read data using different methods and sources\n",
    "-\tRead data from csv\n",
    "1.2.\tRead data from websites\n",
    "1.3.\tRead data from database\n",
    "1.4.\tRead data from github\n",
    "2.\tWrite data to different sources\n",
    "2.1.\tWrite to csv\n",
    "2.2.\tWrite to websites\n",
    "2.3.\tWrite to database\n",
    "2.4.\tWrite to github\n",
    "3.\tRead data from CSV\n",
    "3.1.\tInput: folder path\n",
    "4.\tRead \n"
   ]
  },
  {
   "cell_type": "code",
   "execution_count": null,
   "id": "b4205ceb",
   "metadata": {},
   "outputs": [],
   "source": []
  }
 ],
 "metadata": {
  "kernelspec": {
   "display_name": "Python 3 (ipykernel)",
   "language": "python",
   "name": "python3"
  },
  "language_info": {
   "codemirror_mode": {
    "name": "ipython",
    "version": 3
   },
   "file_extension": ".py",
   "mimetype": "text/x-python",
   "name": "python",
   "nbconvert_exporter": "python",
   "pygments_lexer": "ipython3",
   "version": "3.9.7"
  }
 },
 "nbformat": 4,
 "nbformat_minor": 5
}
