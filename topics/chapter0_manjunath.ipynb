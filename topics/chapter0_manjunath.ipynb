{
 "cells": [
  {
   "cell_type": "markdown",
   "id": "06784886",
   "metadata": {},
   "source": [
    "### Syllabus\n",
    "\n",
    "Basic Python and Data Science\n",
    "\n",
    "**Chapter 1: Installation**\n",
    "\n",
    "*Chapter 1: Installation*\n",
    "\n",
    "1.\t[Anaconda](https://www.geeksforgeeks.org/how-to-install-anaconda-on-windows/)\n",
    "2.\tLaunch Jupyter Notebook\n",
    "3.\tgit (https://git-scm.com/downloads)\n",
    "4.\tgithub (https://desktop.github.com/)\n",
    "5.\tgit account creation\n",
    "-\tGithub desktop installation\n",
    "*\tIntelliJ Community version (https://www.jetbrains.com/idea/download/?fromIDE=#section=windows)\n"
   ]
  },
  {
   "cell_type": "code",
   "execution_count": 3,
   "id": "049655d8",
   "metadata": {},
   "outputs": [
    {
     "data": {
      "text/plain": [
       "<function print>"
      ]
     },
     "execution_count": 3,
     "metadata": {},
     "output_type": "execute_result"
    }
   ],
   "source": [
    "print"
   ]
  },
  {
   "cell_type": "markdown",
   "id": "0acfe1a6",
   "metadata": {},
   "source": [
    "###### Syllabus"
   ]
  },
  {
   "cell_type": "code",
   "execution_count": null,
   "id": "4d2ec2e4",
   "metadata": {},
   "outputs": [],
   "source": []
  }
 ],
 "metadata": {
  "kernelspec": {
   "display_name": "Python 3 (ipykernel)",
   "language": "python",
   "name": "python3"
  },
  "language_info": {
   "codemirror_mode": {
    "name": "ipython",
    "version": 3
   },
   "file_extension": ".py",
   "mimetype": "text/x-python",
   "name": "python",
   "nbconvert_exporter": "python",
   "pygments_lexer": "ipython3",
   "version": "3.9.7"
  }
 },
 "nbformat": 4,
 "nbformat_minor": 5
}
